{
  "nbformat": 4,
  "nbformat_minor": 0,
  "metadata": {
    "colab": {
      "provenance": []
    },
    "kernelspec": {
      "name": "python3",
      "display_name": "Python 3"
    },
    "language_info": {
      "name": "python"
    }
  },
  "cells": [
    {
      "cell_type": "code",
      "execution_count": 3,
      "metadata": {
        "colab": {
          "base_uri": "https://localhost:8080/"
        },
        "id": "n_UYNg3viEfH",
        "outputId": "5e6e5a49-01cd-48f1-ec9a-a4fbfb5e8f85"
      },
      "outputs": [
        {
          "output_type": "stream",
          "name": "stdout",
          "text": [
            "Accuracy using manual KNN: 96.66666666666667\n",
            "Prediction: [2 0 1 1 2 0 2 2 2 1 0 1 0 2 0 0 2 1 0 2 1 2 2 1 2 1 0 1 0 1]\n",
            "Actual    : [2 0 1 1 2 0 2 2 2 1 0 1 0 2 0 0 2 1 0 2 1 2 2 1 2 2 0 1 0 1]\n",
            "Prediction [5.1 3.5 1.4 0.2]: [0]\n"
          ]
        }
      ],
      "source": [
        "import numpy as np\n",
        "import pandas as pd\n",
        "from sklearn.model_selection import train_test_split\n",
        "from sklearn.preprocessing import LabelEncoder\n",
        "from sklearn.datasets import load_iris  # Import load_iris function\n",
        "\n",
        "\n",
        "# Load the Iris dataset\n",
        "iris = load_iris()\n",
        "df = pd.DataFrame(data=iris.data, columns=iris.feature_names)\n",
        "df['species'] = iris.target  # Add the target variable to the DataFrame\n",
        "\n",
        "encoder = LabelEncoder()\n",
        "df['species'] = encoder.fit_transform(df['species'])\n",
        "\n",
        "X = df.iloc[:,:-1].values\n",
        "y = df.iloc[:,-1].values\n",
        "X_train, X_test, y_train, y_test = train_test_split(X, y, test_size=0.2, random_state=44)\n",
        "\n",
        "class KNN:\n",
        "\n",
        "    def __init__(self, n_neighbours=5):\n",
        "        self.n_neighbours = n_neighbours\n",
        "\n",
        "    def dist(self, x1, x2):\n",
        "        return np.sqrt(np.sum((x1 - x2) ** 2))\n",
        "\n",
        "    def fit(self, X_train, y_train):\n",
        "        self.X_train = X_train\n",
        "        self.y_train = y_train\n",
        "\n",
        "    def predict(self, X):\n",
        "        predictions = []\n",
        "        for x in X:\n",
        "            prediction = self._predict(x)\n",
        "            predictions.append(prediction)\n",
        "        return np.array(predictions)\n",
        "\n",
        "    def _predict(self, x):\n",
        "        distances = []\n",
        "        for x_train in self.X_train:\n",
        "            distance = self.dist(x, x_train)\n",
        "            distances.append(distance)\n",
        "        distances = np.array(distances)\n",
        "        id = np.argsort(distances)[: self.n_neighbours]\n",
        "\n",
        "        labels = self.y_train[id]\n",
        "        labels = list(labels)\n",
        "\n",
        "        most_occuring_value = max(labels, key=labels.count)\n",
        "        return most_occuring_value\n",
        "model = KNN(5)\n",
        "model.fit(X_train, y_train)\n",
        "\n",
        "predictions = model.predict(X_test)\n",
        "\n",
        "def accuracy(y_true, y_pred):\n",
        "    accuracy = np.sum(y_true == y_pred) / len(y_true)\n",
        "    return accuracy\n",
        "\n",
        "accu = accuracy(y_test, predictions)\n",
        "print(f\"Accuracy using manual KNN: {accu*100}\")\n",
        "\n",
        "print(f\"Prediction: {predictions}\")\n",
        "print(f\"Actual    : {y_test}\")\n",
        "\n",
        "# Assuming 'input' is a NumPy array representing a data point\n",
        "# Replace with your actual input data\n",
        "input_data = np.array([5.1, 3.5, 1.4, 0.2])  # Example input data\n",
        "manual_prediction = model._predict(input_data)\n",
        "print(f\"Prediction {input_data}: {encoder.inverse_transform([manual_prediction])}\")"
      ]
    }
  ]
}