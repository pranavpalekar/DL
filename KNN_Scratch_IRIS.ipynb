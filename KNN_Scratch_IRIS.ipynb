{
  "nbformat": 4,
  "nbformat_minor": 0,
  "metadata": {
    "colab": {
      "provenance": []
    },
    "kernelspec": {
      "name": "python3",
      "display_name": "Python 3"
    },
    "language_info": {
      "name": "python"
    }
  },
  "cells": [
    {
      "cell_type": "code",
      "execution_count": 4,
      "metadata": {
        "colab": {
          "base_uri": "https://localhost:8080/"
        },
        "id": "n_UYNg3viEfH",
        "outputId": "1b993615-7984-4b34-f0c9-6420deed5f6f"
      },
      "outputs": [
        {
          "output_type": "stream",
          "name": "stdout",
          "text": [
            "Accuracy: 96.67%\n",
            "Predicted: [2 0 1 1 2 0 2 2 2 1 0 1 0 2 0 0 2 1 0 2 1 2 2 1 2 1 0 1 0 1]\n",
            "Actual   : [2 0 1 1 2 0 2 2 2 1 0 1 0 2 0 0 2 1 0 2 1 2 2 1 2 2 0 1 0 1]\n",
            "Single prediction: setosa\n"
          ]
        }
      ],
      "source": [
        "import numpy as np\n",
        "import pandas as pd\n",
        "from sklearn.datasets import load_iris\n",
        "from sklearn.model_selection import train_test_split\n",
        "from sklearn.preprocessing import LabelEncoder\n",
        "\n",
        "# Load and prepare data\n",
        "data = load_iris()\n",
        "X, y = data.data, data.target\n",
        "X_train, X_test, y_train, y_test = train_test_split(X, y, test_size=0.2, random_state=44)\n",
        "\n",
        "# Simple KNN class\n",
        "class KNN:\n",
        "    def __init__(self, k=5): self.k = k\n",
        "    def fit(self, X, y): self.X, self.y = X, y\n",
        "    def _dist(self, a, b): return np.sqrt(np.sum((a - b) ** 2))\n",
        "    def _predict(self, x):\n",
        "        dists = np.array([self._dist(x, x_train) for x_train in self.X])\n",
        "        idx = np.argsort(dists)[:self.k]\n",
        "        return np.bincount(self.y[idx]).argmax()\n",
        "    def predict(self, X): return np.array([self._predict(x) for x in X])\n",
        "\n",
        "# Train and test\n",
        "model = KNN(5)\n",
        "model.fit(X_train, y_train)\n",
        "pred = model.predict(X_test)\n",
        "acc = np.mean(pred == y_test)\n",
        "print(f\"Accuracy: {acc*100:.2f}%\")\n",
        "print(f\"Predicted: {pred}\")\n",
        "print(f\"Actual   : {y_test}\")\n",
        "\n",
        "# Predict single input\n",
        "sample = np.array([5.1, 3.5, 1.4, 0.2])\n",
        "print(f\"Single prediction: {data.target_names[model._predict(sample)]}\")\n"
      ]
    }
  ]
}